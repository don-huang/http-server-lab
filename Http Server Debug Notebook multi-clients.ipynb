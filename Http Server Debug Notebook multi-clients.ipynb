{
 "cells": [
  {
   "cell_type": "code",
   "execution_count": null,
   "id": "e1cb9695-c62a-405d-b348-d4c175219f0a",
   "metadata": {},
   "outputs": [],
   "source": [
    "# === JupyterLab 内部调试版本（线程版本）===\n",
    "# 启动 server 于后台线程，并支持调试变量与控制\n",
    "\n",
    "from http_server1 import run_server_debug  # 确保这个函数已定义并可调试\n",
    "import socket\n",
    "import os\n",
    "import threading\n",
    "import time\n",
    "from multiprocessing import Process\n",
    "\n",
    "# === 配置参数 ===\n",
    "PORT = 8011\n",
    "HOST = \"192.168.50.253\"\n",
    "TEST_FILE = \"rfc2616.html\"\n",
    "OUTPUT_FILE = \"copy.html\"\n",
    "\n",
    "# === 以线程启动 server，不阻塞主线程 ===\n",
    "# print(f\"[i] Launching run_server_debug({PORT}) in background thread...\")\n",
    "# threading.Thread(target=run_server_debug, args=(PORT,), daemon=True).start()\n",
    "# time.sleep(2)  # 等待 server 完全启动\n",
    "\n",
    "# === 以进程启动 server，与Jupyter 调试器进程独立 ===\n",
    "# server_process = Process(target=run_server_debug, args=(PORT,))\n",
    "# server_process.start()\n",
    "# time.sleep(1)  # 等待 server 完全启动\n",
    "\n",
    "# === 调用 server 函数（可调试） ===\n",
    "print(f\"[i] Calling run_server_debug({PORT}) from Jupyter...\")\n",
    "run_server_debug(PORT)\n",
    "\n",
    "# === 启动测试 ===\n",
    "NUM_CLIENTS = 10\n",
    "OUTPUT_TEMPLATE = \"copy_client_{}.html\"\n",
    "\n",
    "def client_task(i):\n",
    "        try:\n",
    "            request_line = f\"GET /{TEST_FILE} HTTP/1.0\\r\\nHost: {HOST}\\r\\n\\r\\n\"\n",
    "            with socket.create_connection((HOST, PORT), timeout=5) as s:\n",
    "                s.sendall(request_line.encode())\n",
    "                response = b\"\"\n",
    "                while True:\n",
    "                    chunk = s.recv(4096)\n",
    "                    if not chunk:\n",
    "                        break\n",
    "                    response += chunk\n",
    "\n",
    "            header_data, body = response.split(b\"\\r\\n\\r\\n\", 1) if b\"\\r\\n\\r\\n\" in response else (b\"\", response)\n",
    "            output_file = OUTPUT_TEMPLATE.format(i)\n",
    "            with open(output_file, \"wb\") as f:\n",
    "                f.write(body)\n",
    "            print(f\"[✓] Client {i+1}: saved {output_file}\")\n",
    "        except Exception as e:\n",
    "            print(f\"[!] Client {i+1} failed: {e}\")\n",
    "\n",
    "threads = [threading.Thread(target=client_task, args=(i,), daemon=True) for i in range(NUM_CLIENTS)]\n",
    "for t in threads: t.start()\n",
    "for t in threads: t.join()\n",
    "\n",
    "print(\"\\nAll client requests completed.\")"
   ]
  },
  {
   "cell_type": "code",
   "execution_count": null,
   "id": "864efbb2-e556-4ff9-a7a9-8819149e3b21",
   "metadata": {},
   "outputs": [],
   "source": []
  },
  {
   "cell_type": "code",
   "execution_count": null,
   "id": "a3580b3b-c6f5-463d-9d4e-2622fe875100",
   "metadata": {},
   "outputs": [],
   "source": []
  }
 ],
 "metadata": {
  "kernelspec": {
   "display_name": "Python 3 (ipykernel)",
   "language": "python",
   "name": "python3"
  },
  "language_info": {
   "codemirror_mode": {
    "name": "ipython",
    "version": 3
   },
   "file_extension": ".py",
   "mimetype": "text/x-python",
   "name": "python",
   "nbconvert_exporter": "python",
   "pygments_lexer": "ipython3",
   "version": "3.8.20"
  }
 },
 "nbformat": 4,
 "nbformat_minor": 5
}
